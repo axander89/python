{
 "cells": [
  {
   "cell_type": "markdown",
   "metadata": {},
   "source": [
    "# <u> Data Types In Python </u>\n",
    "\n",
    "<table>\n",
    "    \n",
    "<thead>\n",
    "<tr>\n",
    "    <th>Type</th> \n",
    "    <th>KeyName</th>\n",
    "    <th>Description</th>\n",
    "    <th>Example</th>\n",
    "</tr>\n",
    "</thead>\n",
    "    \n",
    "<tbody>\n",
    "<tr>\n",
    "    <td>     numbers     </td>\n",
    "    <td>     int - float      </td>\n",
    "    <td>     Whole - with decimal      </td>\n",
    "    <th>     1 30 - 2.3 1.0     </th>\n",
    "</tr>\n",
    "\n",
    "\n",
    "<tr>\n",
    "    <td>     Strings     </td>\n",
    "    <td>     str     </td>\n",
    "    <td>     Ordered sequence characters     </td>\n",
    "    <th>     \"Hello\" 'sammy' \"200\"     </th>\n",
    "</tr>\n",
    "\n",
    "<tr>\n",
    "    <td>     Arrays            </td>\n",
    "    <td>     array     </td>\n",
    "    <td>     Ordered sequence of elements   </td>\n",
    "    <th>     [1,2,3] ['a','b','c'] [1.1,2.5]</th>\n",
    "</tr>\n",
    "\n",
    "<tr>\n",
    "    <td>     Lists            </td>\n",
    "    <td>     list     </td>\n",
    "    <td>     Ordered sequence of objects   </td>\n",
    "    <th>     [10,\"hello\" 2000.3]</th>\n",
    "</tr>\n",
    "\n",
    "<tr>\n",
    "    <td>     Tuples           </td>\n",
    "    <td>     tup     </td>\n",
    "    <td>     Ordered immutable sequence of objects   </td>\n",
    "    <th>     (10,\"hello\",2000.3)</th>\n",
    "</tr>\n",
    "\n",
    "<tr>\n",
    "    <td>     Sets           </td>\n",
    "    <td>     set     </td>\n",
    "    <td>     Unordered collections of unique objects   </td>\n",
    "    <th>     {\"a\",\"b\"}</th>\n",
    "</tr>\n",
    "\n",
    "<tr>\n",
    "    <td>     Dictionaries     </td>\n",
    "    <td>     dict     </td>\n",
    "    <td>     Unordered Key:Value pairs    </td>\n",
    "    <th>     {\"mykey\":\"value\",\"name\":\"Frankie\"}</th>\n",
    "</tr>\n",
    "\n",
    "<tr>\n",
    "    <td>     Boolean          </td>\n",
    "    <td>     bool     </td>\n",
    "    <td>     Logical value</td>\n",
    "    <th>     True or False</th>\n",
    "</tr>\n",
    "</tbody>\n",
    "</table>\n"
   ]
  },
  {
   "cell_type": "markdown",
   "metadata": {},
   "source": [
    "# <u> Numbers </u> "
   ]
  },
  {
   "cell_type": "code",
   "execution_count": null,
   "metadata": {},
   "outputs": [],
   "source": [
    "# Addition\n",
    "2+1"
   ]
  },
  {
   "cell_type": "code",
   "execution_count": null,
   "metadata": {},
   "outputs": [],
   "source": [
    "# Subtraction\n",
    "2-1"
   ]
  },
  {
   "cell_type": "code",
   "execution_count": null,
   "metadata": {},
   "outputs": [],
   "source": [
    "# Multiplication\n",
    "2*2"
   ]
  },
  {
   "cell_type": "code",
   "execution_count": null,
   "metadata": {},
   "outputs": [],
   "source": [
    "# Division\n",
    "7/4"
   ]
  },
  {
   "cell_type": "code",
   "execution_count": null,
   "metadata": {},
   "outputs": [],
   "source": [
    "# Floor Division\n",
    "7//4"
   ]
  },
  {
   "cell_type": "code",
   "execution_count": null,
   "metadata": {},
   "outputs": [],
   "source": [
    "# Power\n",
    "4**2"
   ]
  },
  {
   "cell_type": "code",
   "execution_count": null,
   "metadata": {},
   "outputs": [],
   "source": [
    "# Can also do roots this way\n",
    "4**0.5"
   ]
  },
  {
   "cell_type": "code",
   "execution_count": null,
   "metadata": {},
   "outputs": [],
   "source": [
    "# Modulo - reminder\n",
    "\n",
    "print(7%2) # is even?\n",
    "\n",
    "print()\n",
    "\n",
    "for i in range(10): \n",
    "    print(i%5) # circulate at 5"
   ]
  },
  {
   "cell_type": "code",
   "execution_count": null,
   "metadata": {},
   "outputs": [],
   "source": []
  },
  {
   "cell_type": "markdown",
   "metadata": {},
   "source": [
    "# <u> Strings </u>\n",
    "\n",
    "<p>\n",
    "    Strings in Python are actually a <b>sequence</b>, which basically means Python keeps track of every element in the string as a sequence. Python does not support a character type; these are treated as strings of length one, thus also considered a substring. We are able to use indexing to grab a particular item in the string sequence. Also, we can perform slicing to grab a subseccion of the string as follows: <b>[start:stop:step]</b>\n",
    "</p>\n",
    "\n",
    "<p>\n",
    "    <ul>\n",
    "        <li><b>Slicing - <strike>Reassigning</strike> - Membership - Repetition (*) - Concatenation (+) - length (<u>len()</u>)</b></li>\n",
    "        <li><b>upper()</b></li>\n",
    "        <li><b>lower()</b></li>\n",
    "        <li><b>capitalize()</b></li>\n",
    "        <li><b>count(item)</b></li>\n",
    "        <li><b>index(item)</b></li>\n",
    "        <li><b>rindex(item)</b></li>\n",
    "        <li><b>find(item)</b></li>\n",
    "        <li><b>rfind(item)</b></li>\n",
    "        <li><b>split('at_item')</b></li>\n",
    "        <li><b>partition('at_item')</b></li>\n",
    "        <li><b>isalpha()</b></li>\n",
    "        <li><b>isalnum()</b></li>\n",
    "        <li><b>' '.join(string_list)</b></li>\n",
    "        <li><b>islower()</b></li>\n",
    "        <li><b>isupper()</b></li>\n",
    "        <li><b>isspace()</b></li>\n",
    "        <li><b>istitle()</b></li>\n",
    "    </ul>\n",
    "</p>\n",
    "\n",
    "<p> \n",
    "    <b>Note:</b> Python does not support a character type; these are treated as strings of length one, thus also considered a substring.\n",
    "</p>"
   ]
  },
  {
   "cell_type": "code",
   "execution_count": null,
   "metadata": {},
   "outputs": [],
   "source": [
    "# Assign s as a string\n",
    "s = 'Hello World'"
   ]
  },
  {
   "cell_type": "code",
   "execution_count": null,
   "metadata": {},
   "outputs": [],
   "source": [
    "# Show first element\n",
    "s[0]"
   ]
  },
  {
   "cell_type": "code",
   "execution_count": null,
   "metadata": {},
   "outputs": [],
   "source": [
    "# slicing [start:stop:step]\n",
    "# Grab everything UP TO the 3rd index \n",
    "s[:3]"
   ]
  },
  {
   "cell_type": "code",
   "execution_count": null,
   "metadata": {},
   "outputs": [],
   "source": [
    "# Grab everything past and including the 3rd index\n",
    "s[3:]"
   ]
  },
  {
   "cell_type": "code",
   "execution_count": null,
   "metadata": {},
   "outputs": [],
   "source": [
    "# Grab everything\n",
    "s[:]"
   ]
  },
  {
   "cell_type": "code",
   "execution_count": null,
   "metadata": {},
   "outputs": [],
   "source": [
    "# Last letter (one index behind 0 so it loops back around)\n",
    "s[-1]"
   ]
  },
  {
   "cell_type": "code",
   "execution_count": null,
   "metadata": {},
   "outputs": [],
   "source": [
    "# Second to last letter\n",
    "s[-2]"
   ]
  },
  {
   "cell_type": "code",
   "execution_count": null,
   "metadata": {},
   "outputs": [],
   "source": [
    "# Grab everything but the last letter\n",
    "s[:-1]"
   ]
  },
  {
   "cell_type": "code",
   "execution_count": null,
   "metadata": {},
   "outputs": [],
   "source": [
    "# Grab everything, but go in step sizes of 2\n",
    "s[::2]"
   ]
  },
  {
   "cell_type": "code",
   "execution_count": null,
   "metadata": {},
   "outputs": [],
   "source": [
    "# Reverse String - We can use this to print a string backwards\n",
    "s[::-1]"
   ]
  },
  {
   "cell_type": "code",
   "execution_count": null,
   "metadata": {},
   "outputs": [],
   "source": [
    "# Reverse String in step sizes of 2\n",
    "s[::-2]"
   ]
  },
  {
   "cell_type": "code",
   "execution_count": null,
   "metadata": {},
   "outputs": [],
   "source": [
    "# Concatenate strings!\n",
    "s = s + ' concatenate me!'"
   ]
  },
  {
   "cell_type": "code",
   "execution_count": null,
   "metadata": {},
   "outputs": [],
   "source": [
    "# Membership\n",
    "s = 'Hello World!'\n",
    "\n",
    "print( 'o' in s ) # ?\n",
    "print( 'a' in s ) # ?"
   ]
  },
  {
   "cell_type": "code",
   "execution_count": null,
   "metadata": {},
   "outputs": [],
   "source": [
    "# repetition!\n",
    "'z'*10"
   ]
  },
  {
   "cell_type": "code",
   "execution_count": null,
   "metadata": {},
   "outputs": [],
   "source": [
    "# Upper Case a string\n",
    "s = 'hello world'\n",
    "print( s.upper() )\n",
    "print(s)"
   ]
  },
  {
   "cell_type": "code",
   "execution_count": null,
   "metadata": {},
   "outputs": [],
   "source": [
    "# Lower case \n",
    "s = 'HELLO WORLD'\n",
    "print( s.lower() )\n",
    "print(s)"
   ]
  },
  {
   "cell_type": "code",
   "execution_count": null,
   "metadata": {},
   "outputs": [],
   "source": [
    "# Capitalize first word in string\n",
    "s = 'hello world'\n",
    "print( s.capitalize() )\n",
    "print( s )"
   ]
  },
  {
   "cell_type": "code",
   "execution_count": null,
   "metadata": {},
   "outputs": [],
   "source": [
    "# returns the number of occurrences, without overlap\n",
    "s = 'Hello World'\n",
    "s.count('o')"
   ]
  },
  {
   "cell_type": "code",
   "execution_count": null,
   "metadata": {},
   "outputs": [],
   "source": [
    "# index(): returns the index position of the first occurence\n",
    "# rindex(): same as index, but in reverse order\n",
    "str1 = \"this is string example....wow!!!\";\n",
    "str2 = \"is\";\n",
    "\n",
    "print( str1.index(str2) )\n",
    "print( str1.rindex(str2) )"
   ]
  },
  {
   "cell_type": "code",
   "execution_count": null,
   "metadata": {},
   "outputs": [],
   "source": [
    "# find(): returns the index position of the first occurence\n",
    "# rfind(): same as find, but in reverse order\n",
    "str1 = \"this is really a string example....wow!!!\";\n",
    "str2 = \"is\";\n",
    "\n",
    "print( str1.find(str2) )\n",
    "print( str1.rfind(str2) )"
   ]
  },
  {
   "cell_type": "code",
   "execution_count": null,
   "metadata": {},
   "outputs": [],
   "source": [
    "# Split a string @ blank spaces (this is the default)\n",
    "s = 'Hello World I am cool'\n",
    "print(s.split())\n",
    "print(s)"
   ]
  },
  {
   "cell_type": "code",
   "execution_count": null,
   "metadata": {},
   "outputs": [],
   "source": [
    "# Split by a specific element (doesn't include the element that was split on)\n",
    "s = 'Hello world I am way cooler'\n",
    "print( s.split('w') )\n",
    "print(s)"
   ]
  },
  {
   "cell_type": "code",
   "execution_count": null,
   "metadata": {},
   "outputs": [],
   "source": [
    "# Partition at 'desired char' and include it\n",
    "s = 'Hello World I am cool'\n",
    "print( s.partition('l') )\n",
    "print(s)"
   ]
  },
  {
   "cell_type": "code",
   "execution_count": null,
   "metadata": {},
   "outputs": [],
   "source": [
    "# Make a string from a list - ONLY FOR STRINGS!!\n",
    "s = 'Hello World'\n",
    "splt = s.split()\n",
    "RevertSlpt = ' '.join(splt)\n",
    "SimplyJoin = ''.join(splt)\n",
    "\n",
    "print(s)\n",
    "print(splt)\n",
    "print(RevertSlpt)\n",
    "print(SimplyJoin)"
   ]
  },
  {
   "cell_type": "code",
   "execution_count": null,
   "metadata": {},
   "outputs": [],
   "source": [
    "# return True if all characters in s are alphanumeric\n",
    "s = 'Hello World'\n",
    "s.isalnum()"
   ]
  },
  {
   "cell_type": "code",
   "execution_count": null,
   "metadata": {},
   "outputs": [],
   "source": [
    "# return True if all characters in s are alphabetic\n",
    "s = 'Hello World'\n",
    "s.isalpha()"
   ]
  },
  {
   "cell_type": "code",
   "execution_count": null,
   "metadata": {},
   "outputs": [],
   "source": [
    "# Returns true if string contains only digits and false otherwise.\n",
    "s = 'Hello World'\n",
    "s.isalpha()"
   ]
  },
  {
   "cell_type": "code",
   "execution_count": null,
   "metadata": {},
   "outputs": [],
   "source": [
    "# return True if all cased characters in s are lowercase \n",
    "# and there is at least one cased character in s, False otherwise.\n",
    "s = 'Hello World'\n",
    "s.islower()"
   ]
  },
  {
   "cell_type": "code",
   "execution_count": null,
   "metadata": {},
   "outputs": [],
   "source": [
    "# return True if all characters in s are whitespace.\n",
    "s = 'Hello World'\n",
    "s.isspace()"
   ]
  },
  {
   "cell_type": "code",
   "execution_count": null,
   "metadata": {},
   "outputs": [],
   "source": [
    "# return True if s is a title cased string and there is at least \n",
    "# one character in s, i.e. uppercase characters may only follow \n",
    "# uncased characters and lowercase characters only cased ones. \n",
    "# It returns False otherwise.\n",
    "s = 'Hello world'\n",
    "s.istitle()"
   ]
  },
  {
   "cell_type": "code",
   "execution_count": null,
   "metadata": {},
   "outputs": [],
   "source": [
    "# return True if all cased characters in s are uppercase \n",
    "# and there is at least one cased character in s, False otherwise.\n",
    "s = 'Hello World'\n",
    "s.isupper()"
   ]
  },
  {
   "cell_type": "code",
   "execution_count": null,
   "metadata": {},
   "outputs": [],
   "source": [
    "# essentially the same as a boolean check on s[-1]\n",
    "s = 'Hello World'\n",
    "s.endswith('o')"
   ]
  },
  {
   "cell_type": "code",
   "execution_count": null,
   "metadata": {},
   "outputs": [],
   "source": [
    "# maximun charachter\n",
    "s = 'abcd'\n",
    "max(s)"
   ]
  },
  {
   "cell_type": "code",
   "execution_count": null,
   "metadata": {},
   "outputs": [],
   "source": [
    "# minimun charachter\n",
    "s = 'abcd'\n",
    "min(s)"
   ]
  },
  {
   "cell_type": "code",
   "execution_count": null,
   "metadata": {},
   "outputs": [],
   "source": [
    "# Assign a parragraph\n",
    "\n",
    "para_str = \"\"\"this is a long string that is made up of\n",
    "several lines and non-printable characters such as\n",
    "TAB ( \\t ) and they will show up that way when displayed.\n",
    "NEWLINEs within the string, whether explicitly given like\n",
    "this within the brackets [ \\n ], or just a NEWLINE within\n",
    "the variable assignment will also show up.\n",
    "\"\"\"\n",
    "\n",
    "print(para_str)"
   ]
  },
  {
   "cell_type": "markdown",
   "metadata": {},
   "source": [
    "# <u> Arrays </u>\n",
    "\n",
    "Array is the most basic data structure in python.\n",
    "\n",
    "#### arrayName = array(typecode, [Initial values])\n",
    "<table></table>\n",
    "\n",
    "<table>\n",
    "<tr>\n",
    "    <th>TypeCode</th> \n",
    "    <th>Value</th>\n",
    "</tr>\n",
    "\n",
    "<tr>\n",
    "    <td>b</td>\n",
    "    <td>Represents signed integer of size 1 byte</td>\n",
    "</tr>\n",
    "<tr>\n",
    "    <td>B</td>\n",
    "    <td>Represents unsigned integer of size 1 byte</td>\n",
    "</tr>\n",
    "<tr>\n",
    "    <td>c</td>\n",
    "    <td>Represents character of size 1 byte</td>\n",
    "</tr>\n",
    "<tr>\n",
    "    <td>i</td>\n",
    "    <td>Represents signed integer of size 2 bytes</td>\n",
    "</tr>\n",
    "<tr>\n",
    "    <td>I</td>\n",
    "    <td>Represents unsigned integer of size 2 bytes</td>\n",
    "</tr>\n",
    "<tr>\n",
    "    <td>f</td>\n",
    "    <td>Represents floating point of size 4 bytes</td>\n",
    "</tr>\n",
    "<tr>\n",
    "    <td>d</td>\n",
    "    <td>Represents floating point of size 8 bytes</td>\n",
    "</tr>\n",
    "</table>"
   ]
  },
  {
   "cell_type": "code",
   "execution_count": null,
   "metadata": {},
   "outputs": [],
   "source": [
    "from array import *\n",
    "\n",
    "array1 = array('i', [10,20,30,40,50])\n",
    "array2 = array('i', [i for i in range(5)])\n",
    "\n",
    "for x1 in array1:\n",
    "    print(x1)\n",
    "\n",
    "for x2 in array2:\n",
    "    print(x2)"
   ]
  },
  {
   "cell_type": "markdown",
   "metadata": {},
   "source": [
    "# <u> Lists </u>\n",
    "\n",
    "Earlier when discussing strings we introduced the concept of a *sequence* in Python. Lists can be thought of the most general version of a *sequence* in Python. Unlike strings, they are mutable, meaning the elements inside a list can be changed!\n",
    "\n",
    "<p>\n",
    "    <ul>\n",
    "        <li><b>Slicing - Reassigning - Membership - Repetition (*) - Concatenation (+) - length (<u>len()</u>)</b></li>\n",
    "        <li><b>append(item)</b></li>\n",
    "        <li><b>extend(item)</b></li>\n",
    "        <li><b>insert(location,item)</b></li>\n",
    "        <li><b>pop(idx)</b></li>\n",
    "        <li><b>remove(item)</b></li>\n",
    "        <li><b>reverse()</b></li>\n",
    "        <li><b>sort(reverse=False)</b></li>\n",
    "        <li><b>count(item)</b></li>\n",
    "        <li><b>index(item)</b></li>\n",
    "        <li><b>copy(list)</b></li>\n",
    "    </ul>\n",
    "</p>"
   ]
  },
  {
   "cell_type": "code",
   "execution_count": null,
   "metadata": {},
   "outputs": [],
   "source": [
    "# Assign a list to an variable named my_list\n",
    "my_list = ['A string',23,100.232]\n",
    "my_list"
   ]
  },
  {
   "cell_type": "code",
   "execution_count": null,
   "metadata": {},
   "outputs": [],
   "source": [
    "# Grab element at index 0\n",
    "my_list = ['A string',23,100.232]\n",
    "my_list[0]"
   ]
  },
  {
   "cell_type": "code",
   "execution_count": null,
   "metadata": {},
   "outputs": [],
   "source": [
    "# Slicing\n",
    "my_list = ['A string',23,100.232,'add', 'new', 'item']\n",
    "my_list[2:]"
   ]
  },
  {
   "cell_type": "code",
   "execution_count": null,
   "metadata": {},
   "outputs": [],
   "source": [
    "# copy\n",
    "my_list = ['A string',23,100.232,'add', 'new', 'item']\n",
    "my_list2 = my_list[:]"
   ]
  },
  {
   "cell_type": "code",
   "execution_count": null,
   "metadata": {},
   "outputs": [],
   "source": [
    "# Repetition - Make the list double\n",
    "my_list = ['A string',23,100.232]\n",
    "repeated = my_list * 3\n",
    "\n",
    "one_d_repeated = [None]*5\n",
    "one_d_repeated_change = [None]*5\n",
    "one_d_repeated_change[3] = 1\n",
    "\n",
    "two_d_repeated = [[None]*5]*5\n",
    "two_d_repeated_change = [[None]*5]*5\n",
    "two_d_repeated_change[3][3] = 1\n",
    "\n",
    "import pprint\n",
    "pp = pprint.PrettyPrinter(indent=2)\n",
    "print(my_list)\n",
    "print(repeated)\n",
    "print(one_d_repeated)\n",
    "print(one_d_repeated_change)\n",
    "pp.pprint(two_d_repeated)\n",
    "pp.pprint(two_d_repeated_change)\n"
   ]
  },
  {
   "cell_type": "code",
   "execution_count": null,
   "metadata": {},
   "outputs": [],
   "source": [
    "# Membership\n",
    "my_list = ['A string',23,100.232,'add', 'new', 'item']\n",
    "\n",
    "print('A string' in my_list)\n",
    "print('hey' in my_list)\n",
    "\n",
    "if 'hey' not in my_list:\n",
    "    print()\n",
    "    print(\"we used 'not in'\")"
   ]
  },
  {
   "cell_type": "code",
   "execution_count": null,
   "metadata": {},
   "outputs": [],
   "source": [
    "# Concatenate\n",
    "my_list = ['A string',23,100.232]\n",
    "my_list2 = my_list + ['I was plused', 'with (+)']\n",
    "my_list.append('I was appended!')\n",
    "\n",
    "print(my_list)\n",
    "print(my_list2)"
   ]
  },
  {
   "cell_type": "code",
   "execution_count": null,
   "metadata": {},
   "outputs": [],
   "source": [
    "# More Append\n",
    "x = ['A string',23,100.232]\n",
    "x.append([4, 5])\n",
    "x"
   ]
  },
  {
   "cell_type": "code",
   "execution_count": null,
   "metadata": {},
   "outputs": [],
   "source": [
    "# Extend\n",
    "x = ['A string',23,100.232]\n",
    "x.extend([4, 5])\n",
    "x"
   ]
  },
  {
   "cell_type": "code",
   "execution_count": null,
   "metadata": {},
   "outputs": [],
   "source": [
    "# Place a letter at the index 2\n",
    "my_list = ['zero','one','two','three']\n",
    "my_list.insert(2,'inserted_at_idx_2')\n",
    "my_list"
   ]
  },
  {
   "cell_type": "code",
   "execution_count": null,
   "metadata": {},
   "outputs": [],
   "source": [
    "# remove element\n",
    "my_list = ['zero','one','two','three']\n",
    "my_list.remove('two')\n",
    "my_list"
   ]
  },
  {
   "cell_type": "code",
   "execution_count": null,
   "metadata": {},
   "outputs": [],
   "source": [
    "# Pop - last element defaul (stack)\n",
    "x = [0, 1, 2, 3, 4, 5, 6]\n",
    "\n",
    "print( x.pop() )   # stack\n",
    "print( x.pop(-1) ) # stack\n",
    "print( x.pop(0) )  # queue\n",
    "print( x )"
   ]
  },
  {
   "cell_type": "code",
   "execution_count": null,
   "metadata": {},
   "outputs": [],
   "source": [
    "# Use reverse to reverse order\n",
    "new_list1 = ['a','e','i','o','u']\n",
    "new_list2 = [0, 1, 2, 3, 4, 5, 6]\n",
    "new_list1.reverse()\n",
    "new_list2.reverse()\n",
    "\n",
    "print(new_list1)\n",
    "print(new_list2)"
   ]
  },
  {
   "cell_type": "code",
   "execution_count": null,
   "metadata": {},
   "outputs": [],
   "source": [
    "# Use sort to sort the list (in this case alphabetical order,\n",
    "# but for numbers it will go ascending)\n",
    "new_list1 = ['i','u','a','o','u']\n",
    "new_list2 = [6, 1, 0, 3, 2, 5, 4]\n",
    "new_list1.sort()\n",
    "new_list2.sort()\n",
    "\n",
    "print(new_list1)\n",
    "print(new_list2)"
   ]
  },
  {
   "cell_type": "code",
   "execution_count": null,
   "metadata": {},
   "outputs": [],
   "source": [
    "# Use sort to sort the list (in this case alphabetical order,\n",
    "# but for numbers it will go ascending_ in reverse\n",
    "new_list1 = ['i','u','a','o','u']\n",
    "new_list2 = [6, 1, 0, 3, 2, 5, 4]\n",
    "new_list1.sort(reverse=True)\n",
    "new_list2.sort(reverse=True)\n",
    "\n",
    "print(new_list1)\n",
    "print(new_list2)"
   ]
  },
  {
   "cell_type": "code",
   "execution_count": null,
   "metadata": {},
   "outputs": [],
   "source": [
    "# Count items\n",
    "new_list = ['a','u','o','i','e']\n",
    "new_list.count('a')"
   ]
  },
  {
   "cell_type": "code",
   "execution_count": null,
   "metadata": {},
   "outputs": [],
   "source": [
    "# Find index\n",
    "new_list = ['a','u','o','i','e']\n",
    "new_list.index('e')"
   ]
  },
  {
   "cell_type": "code",
   "execution_count": null,
   "metadata": {},
   "outputs": [],
   "source": [
    "# copy a list\n",
    "x = [1,2,3]\n",
    "y = x.copy()\n",
    "y.append(4)\n",
    "print(x)\n",
    "print(y)"
   ]
  },
  {
   "cell_type": "code",
   "execution_count": null,
   "metadata": {},
   "outputs": [],
   "source": [
    "# reference a list (point to list - it is an object)\n",
    "x = [1,2,3]\n",
    "y = x\n",
    "y.append(4)\n",
    "x.append(5)\n",
    "print(x)\n",
    "print(y)"
   ]
  },
  {
   "cell_type": "code",
   "execution_count": null,
   "metadata": {},
   "outputs": [],
   "source": [
    "# reference a list to multiple variables. \n",
    "# Here three variables are assigned to the same memory location.\n",
    "x = y = z = [1,2,3]\n",
    "x.append(4)\n",
    "y.append(5)\n",
    "z.append(6)\n",
    "print(x)\n",
    "print(y)\n",
    "print(z)"
   ]
  },
  {
   "cell_type": "code",
   "execution_count": null,
   "metadata": {},
   "outputs": [],
   "source": [
    "# assign different objects arrays to different variables\n",
    "x,y,z = [1,2,3],[3,4,5],['one','two','three']\n",
    "x.append(4)\n",
    "y.append(6)\n",
    "z.append('four')\n",
    "print(x)\n",
    "print(y)\n",
    "print(z)"
   ]
  },
  {
   "cell_type": "code",
   "execution_count": null,
   "metadata": {},
   "outputs": [],
   "source": [
    "# Nesting\n",
    "# Let's make three lists\n",
    "lst_1=[5,2,3]\n",
    "lst_2=[1,5,9]\n",
    "lst_3=[4,3,2]\n",
    "\n",
    "# Make a list of lists to form a matrix\n",
    "matrix = [lst_1,lst_2,lst_3]\n",
    "\n",
    "print(matrix)\n",
    "print(matrix[0])\n",
    "print(matrix[0][0])\n",
    "print()\n",
    "print(min(matrix))\n",
    "print(max(matrix))\n",
    "print()\n",
    "print(min(matrix[0]))\n",
    "print(max(matrix[0]))"
   ]
  },
  {
   "cell_type": "markdown",
   "metadata": {},
   "source": [
    "## List Comprehensions\n",
    "Python has an advanced feature called list comprehensions. They allow for quick construction of lists. \\"
   ]
  },
  {
   "cell_type": "code",
   "execution_count": null,
   "metadata": {},
   "outputs": [],
   "source": [
    "# Build a list comprehension by deconstructing a for loop within a []\n",
    "my_list = [i for i in range(10)]\n",
    "print( my_list )\n",
    "print( [0]*10)"
   ]
  },
  {
   "cell_type": "code",
   "execution_count": null,
   "metadata": {},
   "outputs": [],
   "source": [
    "# Build a 2D list\n",
    "my_2Dlist = [ [i for i in range(1,4)] for j in range(5)]\n",
    "print( my_2Dlist )\n",
    "print( [[0]*3]*5 )"
   ]
  },
  {
   "cell_type": "code",
   "execution_count": null,
   "metadata": {},
   "outputs": [],
   "source": [
    "# nested loop operation\n",
    "# [ operation inner_loop outer_loop ]\n",
    "\n",
    "r = []\n",
    "for x in range(3):\n",
    "    for y in range(3,6):\n",
    "        r.append(x+y)\n",
    "print(r)\n",
    "print( [ y + x for y in range(3) for x in range(3,6)] )\n",
    "\n",
    "arr = ['a','b','c']\n",
    "r = []\n",
    "for x in arr:\n",
    "    for y in arr:\n",
    "        r.append(x+y)\n",
    "\n",
    "print(r)\n",
    "print( [ y + x for y in arr for x in arr] )"
   ]
  },
  {
   "cell_type": "markdown",
   "metadata": {},
   "source": [
    "# <u> Tuples </u>\n",
    "\n",
    "<p>\n",
    "    In Python tuples are very similar to lists, however, unlike lists they are <b><i>immutable</i></b> meaning they can not be changed. Tuples can be though as <b>READ ONLY!!</b> You would use tuples to present things that shouldn't be changed, such as days of the week, or dates on a calendar. \n",
    "</p>\n",
    "\n",
    "<p>\n",
    "    <ul>\n",
    "        <li><b>Slicing - <strike>Reassigning</strike> - Membership - Repetition (*) - Concatenation (+) - length (<u>len()</u>)</b></li>\n",
    "        <li><b>index()</b></li>\n",
    "        <li><b>count(item)</b></li>\n",
    "    </ul>\n",
    "</p>"
   ]
  },
  {
   "cell_type": "code",
   "execution_count": null,
   "metadata": {},
   "outputs": [],
   "source": [
    "# Create a tuple\n",
    "t = (1,2,3,'One','Two','Tree')\n",
    "t"
   ]
  },
  {
   "cell_type": "code",
   "execution_count": null,
   "metadata": {},
   "outputs": [],
   "source": [
    "# Grab element at index 0\n",
    "t = (1,2,3,'One','Two','Tree')\n",
    "t[0]"
   ]
  },
  {
   "cell_type": "code",
   "execution_count": null,
   "metadata": {},
   "outputs": [],
   "source": [
    "# Slicing\n",
    "t = (1,2,3,'One','Two','Tree')\n",
    "t[2:]"
   ]
  },
  {
   "cell_type": "code",
   "execution_count": null,
   "metadata": {},
   "outputs": [],
   "source": [
    "# Repetition - Make the tupple double\n",
    "t = (1,2,3,'One','Two','Tree')\n",
    "t * 2"
   ]
  },
  {
   "cell_type": "code",
   "execution_count": null,
   "metadata": {},
   "outputs": [],
   "source": [
    "# Membership\n",
    "t = (1,2,3,'One','Two','Tree')\n",
    "\n",
    "print('One' in t)\n",
    "print(5 in t)\n",
    "\n",
    "if 'Four' not in t:\n",
    "    print(\"nope 'Four' is not in  t\")"
   ]
  },
  {
   "cell_type": "code",
   "execution_count": null,
   "metadata": {},
   "outputs": [],
   "source": [
    "# Concatenate\n",
    "t = (1,2,3,'One','Two','Tree')\n",
    "t = t + (4,5,'Four', 'Five')\n",
    "t"
   ]
  },
  {
   "cell_type": "code",
   "execution_count": null,
   "metadata": {},
   "outputs": [],
   "source": [
    "# Use .index to enter a value and return the index\n",
    "t = (1,2,3,'One','Two','Tree')\n",
    "t.index('One')"
   ]
  },
  {
   "cell_type": "code",
   "execution_count": null,
   "metadata": {},
   "outputs": [],
   "source": [
    "# Use .count to count the number of times a value appears\n",
    "t = (1,2,3,'One','Two','Tree')\n",
    "t.count('One')"
   ]
  },
  {
   "cell_type": "markdown",
   "metadata": {},
   "source": [
    "# <u> Sets </u>\n",
    "\n",
    "Sets are an unordered collection of ***unique elements***. We can construct them by using the set() function.\n",
    "\n",
    "\n",
    "<p>\n",
    "    <ul>\n",
    "        <li><b> <strike>Slicing</strike> - <strike>Reassigning</strike> - Membership - <strike>Repetition (*)</strike>  - <strike>Concatenation</strike> (+) - length (<u>len()</u>)</b></li>\n",
    "        <li><b>add(item)</b></li>\n",
    "        <li><b>discard(item)</b></li>\n",
    "        <li><b>clear()</b></li>\n",
    "        <li><b>copy()</b></li>\n",
    "        <li><b>difference()</b></li>\n",
    "        <li><b>difference_update()</b></li>\n",
    "        <li><b>symetric_difference()</b></li>\n",
    "        <li><b>intersection()</b></li>\n",
    "        <li><b>intersection_update()</b></li>\n",
    "        <li><b>isdisjoint()</b></li>\n",
    "        <li><b>issubset()</b></li>\n",
    "        <li><b>issuperset()</b></li>\n",
    "        <li><b>union()</b></li>\n",
    "        <li><b>update()</b></li>\n",
    "    </ul>\n",
    "</p>"
   ]
  },
  {
   "cell_type": "code",
   "execution_count": null,
   "metadata": {},
   "outputs": [],
   "source": [
    "# Declare a set\n",
    "x = set()\n",
    "x"
   ]
  },
  {
   "cell_type": "code",
   "execution_count": null,
   "metadata": {},
   "outputs": [],
   "source": [
    "# We add to sets with the add() method\n",
    "x = set()\n",
    "x.add(2)\n",
    "x"
   ]
  },
  {
   "cell_type": "code",
   "execution_count": null,
   "metadata": {},
   "outputs": [],
   "source": [
    "# Cast as list to a set\n",
    "x = set([1,2,3,'one','two','apple'])\n",
    "x"
   ]
  },
  {
   "cell_type": "code",
   "execution_count": null,
   "metadata": {},
   "outputs": [],
   "source": [
    "# Create a list with repeats\n",
    "list1 = [4,5,2,2,3,4,5,6,1,1,'one','two','ona','apple']\n",
    "\n",
    "# Cast as set to get unique values\n",
    "set1 = set(list1)\n",
    "\n",
    "print(list1)\n",
    "print(set1)"
   ]
  },
  {
   "cell_type": "code",
   "execution_count": null,
   "metadata": {},
   "outputs": [],
   "source": [
    "# Membership\n",
    "x = set( ['A string',23,100.232,'add', 'new', 'item'] )\n",
    "\n",
    "print('A string' in x)\n",
    "print('hey' in x)\n",
    "\n",
    "if 'hey' not in x:\n",
    "    print()\n",
    "    print(\"we used 'not in'\")"
   ]
  },
  {
   "cell_type": "code",
   "execution_count": null,
   "metadata": {},
   "outputs": [],
   "source": [
    "# Won't add existing element\n",
    "x = set([1,2,3,'one','two','apple'])\n",
    "x.add(1)\n",
    "x"
   ]
  },
  {
   "cell_type": "code",
   "execution_count": null,
   "metadata": {},
   "outputs": [],
   "source": [
    "# Won't add existing element\n",
    "x = set([1,2,3,'one','two','apple'])\n",
    "x.discard(1)\n",
    "x"
   ]
  },
  {
   "cell_type": "code",
   "execution_count": null,
   "metadata": {},
   "outputs": [],
   "source": [
    "# clear a set\n",
    "x = set([1,2,3,'one','two','apple'])\n",
    "x.clear()\n",
    "x"
   ]
  },
  {
   "cell_type": "code",
   "execution_count": null,
   "metadata": {},
   "outputs": [],
   "source": [
    "# copy a set\n",
    "x = {1,2,3}\n",
    "y = x.copy()\n",
    "y.add(4)\n",
    "print(x)\n",
    "print(y)"
   ]
  },
  {
   "cell_type": "code",
   "execution_count": null,
   "metadata": {},
   "outputs": [],
   "source": [
    "# reference a list (point to list - it is an object)\n",
    "a = {1,2,3}\n",
    "b = a\n",
    "a.add(4)\n",
    "b.add(5)\n",
    "print(a)\n",
    "print(b)"
   ]
  },
  {
   "cell_type": "code",
   "execution_count": null,
   "metadata": {},
   "outputs": [],
   "source": [
    "# reference a set to multiple variables\n",
    "x = y = z = {1,2,3}\n",
    "x.add(4)\n",
    "y.add(5)\n",
    "z.add(6)\n",
    "print(x)\n",
    "print(y)\n",
    "print(z)"
   ]
  },
  {
   "cell_type": "code",
   "execution_count": null,
   "metadata": {},
   "outputs": [],
   "source": [
    "# assign different set objects to different variables\n",
    "x,y,z = {1,2,3},{3,4,5},{'one','two','three'}\n",
    "x.add(4)\n",
    "y.add(6)\n",
    "z.add('four')\n",
    "print(x)\n",
    "print(y)\n",
    "print(z)"
   ]
  },
  {
   "cell_type": "code",
   "execution_count": null,
   "metadata": {},
   "outputs": [],
   "source": [
    "# returns the difference (elements not in) of two or more sets.\n",
    "x = set([1,2,3,'one','two','apple'])\n",
    "y = set([1,2,3,'one','two','three'])\n",
    "print( y.difference(x) )\n",
    "print( x.difference(y) )\n",
    "print( x )\n",
    "print( y )"
   ]
  },
  {
   "cell_type": "code",
   "execution_count": null,
   "metadata": {},
   "outputs": [],
   "source": [
    "# returns the difference (elements not in) of two or more sets and updates (In place)\n",
    "x = set([1,2,3,'one','two','apple'])\n",
    "y = set([1,2,3,'one','two','three'])\n",
    "print( x.difference_update(y) )\n",
    "print( x )\n",
    "print( y )"
   ]
  },
  {
   "cell_type": "code",
   "execution_count": null,
   "metadata": {},
   "outputs": [],
   "source": [
    "# returns the difference (elements not in) of two or more sets and updates (In place)\n",
    "x = set([1,2,3,'one','two','apple'])\n",
    "y = set([1,2,3,'one','two','three'])\n",
    "print( y.difference_update(x) )\n",
    "print( y )\n",
    "print( x )"
   ]
  },
  {
   "cell_type": "code",
   "execution_count": null,
   "metadata": {},
   "outputs": [],
   "source": [
    "# Return the symmetric difference of two sets as a new set.\n",
    "# (i.e. all elements that are in exactly one of the sets.)\n",
    "s1 = {1,2}\n",
    "s2 = {1,2,4}\n",
    "print( s1.symmetric_difference(s2) )\n",
    "print( s2.symmetric_difference(s1) )"
   ]
  },
  {
   "cell_type": "code",
   "execution_count": null,
   "metadata": {},
   "outputs": [],
   "source": [
    "# Return the symmetric difference of two sets as a new set.\n",
    "# (i.e. all elements that are in exactly one of the sets.)\n",
    "s1 = set([1,2,3,'one','two','apple'])\n",
    "s2 = set([1,2,3,'one','two','three'])\n",
    "print( s1.symmetric_difference(s2) )\n",
    "print( s2.symmetric_difference(s1) )"
   ]
  },
  {
   "cell_type": "code",
   "execution_count": null,
   "metadata": {},
   "outputs": [],
   "source": [
    "# Intersection \n",
    "s1 = {1,2,3,4,5}\n",
    "s2 = {4,5,6,7,8}\n",
    "print( s1.intersection(s2) )\n",
    "print( s2.intersection(s1) )\n",
    "print( s1 )\n",
    "print( s2 )"
   ]
  },
  {
   "cell_type": "code",
   "execution_count": null,
   "metadata": {},
   "outputs": [],
   "source": [
    "# Intersection in place\n",
    "s1 = {1,2,3,4,5}\n",
    "s2 = {4,5,6,7,8}\n",
    "print( s1.intersection_update(s2) )\n",
    "print( s1 )\n",
    "print( s2 )"
   ]
  },
  {
   "cell_type": "code",
   "execution_count": null,
   "metadata": {},
   "outputs": [],
   "source": [
    "# Intersection in place\n",
    "s1 = {1,2,3,4,5}\n",
    "s2 = {4,5,6,7,8}\n",
    "print( s2.intersection_update(s1) )\n",
    "print( s1 )\n",
    "print( s2 )"
   ]
  },
  {
   "cell_type": "code",
   "execution_count": null,
   "metadata": {},
   "outputs": [],
   "source": [
    "# return True if two sets have a null intersection\n",
    "s1 = {1,2,3}\n",
    "s2 = {3,4,5}\n",
    "print( s1.isdisjoint(s2) )\n",
    "print( s2.isdisjoint(s1) )"
   ]
  },
  {
   "cell_type": "code",
   "execution_count": null,
   "metadata": {},
   "outputs": [],
   "source": [
    "# return True if two sets have a null intersection\n",
    "s1 = {1,2,3}\n",
    "s2 = {4,5,6}\n",
    "print( s1.isdisjoint(s2) )\n",
    "print( s2.isdisjoint(s1) )"
   ]
  },
  {
   "cell_type": "code",
   "execution_count": null,
   "metadata": {},
   "outputs": [],
   "source": [
    "# reports whether another set contains this set.\n",
    "s1 = {1,2}\n",
    "s2 = {1,2,4}\n",
    "print( s1.issubset(s2) )\n",
    "print( s2.issubset(s1) )"
   ]
  },
  {
   "cell_type": "code",
   "execution_count": null,
   "metadata": {},
   "outputs": [],
   "source": [
    "# method will report whether this set contains another set.\n",
    "s1 = {1,2}\n",
    "s2 = {1,2,4}\n",
    "print( s1.issuperset(s2) )\n",
    "print( s2.issuperset(s1) )"
   ]
  },
  {
   "cell_type": "code",
   "execution_count": null,
   "metadata": {},
   "outputs": [],
   "source": [
    "# Returns the union of two sets (i.e. all elements that are in either set.)\n",
    "s1 = {1,2,3}\n",
    "s2 = {3,4,5}\n",
    "print( s1.union(s2) )\n",
    "print( s2.union(s1) )\n",
    "print( s1 )\n",
    "print( s2 )"
   ]
  },
  {
   "cell_type": "code",
   "execution_count": null,
   "metadata": {},
   "outputs": [],
   "source": [
    "# Update a set with the union of itself and others.\n",
    "s1 = {1,2}\n",
    "s2 = {3,4,5}\n",
    "print( s1.update(s2) )\n",
    "print( s1 )\n",
    "print( s2 )"
   ]
  },
  {
   "cell_type": "markdown",
   "metadata": {},
   "source": [
    "# <u> Dictionaries </u>\n",
    "\n",
    "<p>\n",
    "    Dictionaries are maps or hash tables. Dictionaries are a collection of objects that are stored by a <b>key</b>, unlike a sequence that stored objects by their relative position. A Python dictionary consists of a <b>key</b> and then an associated <b>value</b>, and the format is follows: <b>{key1:value1,key2:value2}</b>. Values can be almost any Python object, and these can be repeated in the same dictionary. However, there can not exist repeated keys, these must be unique.\n",
    "</p>\n",
    "\n",
    "<p>\n",
    "    <ul>\n",
    "        <li><b><strike>Slicing</strike> - Reassigning - Membership - <strike>Repetition (*)</strike> - <strike>Concatenation (+)</strike> - length (<u>len()</u>)</b></li>\n",
    "        <li><b>get()</b></li>\n",
    "        <li><b>copy()</b></li>\n",
    "        <li><b>clear()</b></li>\n",
    "        <li><b>keys()</b></li>\n",
    "        <li><b>values()</b></li>\n",
    "        <li><b>items()</b></li>\n",
    "        <li><b>has_key()</b></li>\n",
    "        <li><b>update(other_dict)</b></li>\n",
    "    </ul>\n",
    "</p>"
   ]
  },
  {
   "cell_type": "code",
   "execution_count": null,
   "metadata": {},
   "outputs": [],
   "source": [
    "# Make a dictionary with {} and : to signify a key and a value\n",
    "my_dict1 = {'key1':'value1','key2':'value2'}\n",
    "my_dict2 = {'key1':123,'key2':[12,23,33],'key3':['item0','item1','item2']}\n",
    "\n",
    "print( my_dict1 )\n",
    "print( my_dict2 )"
   ]
  },
  {
   "cell_type": "code",
   "execution_count": null,
   "metadata": {},
   "outputs": [],
   "source": [
    "# Call values by their key\n",
    "\n",
    "print( my_dict1['key2'] )\n",
    "print( my_dict2['key3'] )\n",
    "print( my_dict1.get('key2') )\n",
    "print( my_dict2.get('key3') )"
   ]
  },
  {
   "cell_type": "code",
   "execution_count": null,
   "metadata": {},
   "outputs": [],
   "source": [
    "# Can call an index on that value and call values by their key\n",
    "print( my_dict2['key3'][0] )\n",
    "print( my_dict2.get('key3')[0] )"
   ]
  },
  {
   "cell_type": "code",
   "execution_count": null,
   "metadata": {},
   "outputs": [],
   "source": [
    "# Can then even call methods on that value\n",
    "my_dict['key3'][0].upper()"
   ]
  },
  {
   "cell_type": "code",
   "execution_count": null,
   "metadata": {},
   "outputs": [],
   "source": [
    "# Create a new dictionary, and # Create a new key through assignment\n",
    "d = {}\n",
    "d['animal'] = 'Dog'"
   ]
  },
  {
   "cell_type": "code",
   "execution_count": null,
   "metadata": {},
   "outputs": [],
   "source": [
    "# Dictionary nested inside a dictionary nested inside a dictionary\n",
    "d = {'key1':{'nestkey':{'subnestkey':'value'}}}\n",
    "# Keep calling the keys\n",
    "d['key1']['nestkey']['subnestkey']"
   ]
  },
  {
   "cell_type": "code",
   "execution_count": null,
   "metadata": {},
   "outputs": [],
   "source": [
    "# Method to return a list of all keys \n",
    "d = {'key1':1,'key2':2,'key3':3}\n",
    "d.keys()"
   ]
  },
  {
   "cell_type": "code",
   "execution_count": null,
   "metadata": {},
   "outputs": [],
   "source": [
    "# Method to grab all values\n",
    "d.values()"
   ]
  },
  {
   "cell_type": "code",
   "execution_count": null,
   "metadata": {},
   "outputs": [],
   "source": [
    "# Method to return tuples of all items  (we'll learn about tuples soon)\n",
    "d.items()"
   ]
  },
  {
   "cell_type": "code",
   "execution_count": null,
   "metadata": {},
   "outputs": [],
   "source": [
    "# iterated over using the keys(), values() and items() methods.\n",
    "# Method to return a list of all keys \n",
    "d = {'key1':1,'key2':2,'key3':3}\n",
    "\n",
    "for k in d: # same as d.keys\n",
    "    print(k)\n",
    "\n",
    "print('')\n",
    "\n",
    "for k in d.keys():\n",
    "    print(k)\n",
    "\n",
    "print('')\n",
    "\n",
    "for v in d.values():\n",
    "    print(v)\n",
    "\n",
    "print('')\n",
    "\n",
    "for item in d.items():\n",
    "    print(item)\n",
    "\n",
    "print('')\n",
    "\n",
    "for k,v in d.items():\n",
    "    print('key is: {}, and val is: {}'.format(k,v))\n"
   ]
  },
  {
   "cell_type": "code",
   "execution_count": null,
   "metadata": {},
   "outputs": [],
   "source": [
    "my_dict1 = {'one':1,'two':2}\n",
    "my_dict2 = {'key1':123,'key2':[12,23,33],'key3':['item0','item1','item2']}\n",
    "\n",
    "my_dict2.update(my_dict1)\n",
    "print( my_dict1 )\n",
    "print( my_dict2 )"
   ]
  },
  {
   "cell_type": "code",
   "execution_count": null,
   "metadata": {},
   "outputs": [],
   "source": [
    "my_dict1 = {'one':1,'two':2}\n",
    "my_dict2 = my_dict1.copy()\n",
    "\n",
    "print( my_dict1 )\n",
    "print( my_dict2 )"
   ]
  },
  {
   "cell_type": "markdown",
   "metadata": {},
   "source": [
    "## Dictionary Comprehensions\n",
    "\n",
    "Just like List Comprehensions, Dictionary Data Types also support their own version of comprehension for quick creation. It is not as commonly used as List Comprehensions, but the syAntax is:"
   ]
  },
  {
   "cell_type": "code",
   "execution_count": null,
   "metadata": {},
   "outputs": [],
   "source": [
    "{x:x**2 for x in range(10)}"
   ]
  },
  {
   "cell_type": "markdown",
   "metadata": {},
   "source": [
    "### OrderedDict"
   ]
  },
  {
   "cell_type": "code",
   "execution_count": null,
   "metadata": {},
   "outputs": [],
   "source": [
    "from collections import OrderedDict\n",
    "\n",
    "print('Dict:')\n",
    "\n",
    "d = dict()\n",
    "\n",
    "d['a'] = 'A'\n",
    "d['b'] = 'B'\n",
    "d['c'] = 'C'\n",
    "d['d'] = 'D'\n",
    "d['e'] = 'E'\n",
    "\n",
    "for k, v in d.items():\n",
    "    print(k, v)\n",
    "    \n",
    "print('\\nOrderedDict:')\n",
    "\n",
    "d = OrderedDict()\n",
    "\n",
    "d['a'] = 'A'\n",
    "d['b'] = 'B'\n",
    "d['c'] = 'C'\n",
    "d['d'] = 'D'\n",
    "d['e'] = 'E'\n",
    "\n",
    "for k, v in d.items():\n",
    "    print(k, v)"
   ]
  },
  {
   "cell_type": "code",
   "execution_count": null,
   "metadata": {},
   "outputs": [],
   "source": [
    "# Equality\n",
    "\n",
    "print('Dictionaries are equal - same order!')\n",
    "\n",
    "d1 = {}\n",
    "d1['a'] = 'A'\n",
    "d1['b'] = 'B'\n",
    "\n",
    "d2 = {}\n",
    "d2['b'] = 'B'\n",
    "d2['a'] = 'A'\n",
    "\n",
    "print(d1==d2)\n",
    "\n",
    "\n",
    "print('\\nDictionaries are not equal - different order!')\n",
    "\n",
    "d1 = OrderedDict()\n",
    "d1['a'] = 'A'\n",
    "d1['b'] = 'B'\n",
    "\n",
    "\n",
    "d2 = OrderedDict()\n",
    "\n",
    "d2['b'] = 'B'\n",
    "d2['a'] = 'A'\n",
    "\n",
    "print(d1==d2)"
   ]
  },
  {
   "cell_type": "markdown",
   "metadata": {},
   "source": [
    "# <u> Classes</u>"
   ]
  },
  {
   "cell_type": "code",
   "execution_count": null,
   "metadata": {},
   "outputs": [],
   "source": [
    "class Book:\n",
    "    \n",
    "    # Class Variable: A variable that is shared by all instances of a class.\n",
    "    #               i.e. all instances refer to the same memory location.\n",
    "    booksCount = 0      # public Variable\n",
    "    __totalEarnings = 0 # private Variable\n",
    "    \n",
    "    # Class methods (functions)\n",
    "    # The init method gets automatically \n",
    "    # executed when an instance is created.\n",
    "    def __init__(self, title='The Best Book', author='John Smith', pages=[[],[],[]]):\n",
    "        self.title = title      # public attribute\n",
    "        self.author = author    # public attribute\n",
    "        self.pages = pages      # public attribute\n",
    "        self.__earnings = 1000  # private attribute\n",
    "        Book.booksCount += 1\n",
    "        Book.__totalEarnings += self.__earnings\n",
    "        \n",
    "    def read(self,page_number):\n",
    "        print( self.pages[page_number] )\n",
    "    \n",
    "    def getMyPrivate(self):\n",
    "        self.__myPrivateMethod()\n",
    "    \n",
    "    # Magic Functions/Operators\n",
    "    def __str__(self): # used whit print()\n",
    "        return \"Title: %s, author: %s, pages: %s\" %(self.title, self.author, self.pages)\n",
    "\n",
    "    def __len__(self): # used with len()\n",
    "        return self.pages\n",
    "\n",
    "    def __del__(self): # used when object is not used anymore and with del\n",
    "        print(\"A book is destroyed\")\n",
    "    \n",
    "    # Encapsulation. This is a private method!\n",
    "    def __myPrivateMethod(self):\n",
    "        print('this is private!!')\n",
    "\n",
    "# Create an instance of the class\n",
    "myFirstBook = Book('First Book','First Author', pages = [['abc'],['efg']])\n",
    "mySecondBook = Book('Second Book','Second Author', pages = [['ABC'],['EFG']])\n",
    "\n",
    "# Access Class Variable\n",
    "print( Book.booksCount )\n",
    "\n",
    "# Access Instance Public Attributes\n",
    "print( myFirstBook.title )\n",
    "print( mySecondBook.title )\n",
    "\n",
    "# Access Public Functions\n",
    "print( myFirstBook.read(0) )\n",
    "print( mySecondBook.read(0) )\n",
    "print( myFirstBook.getMyPrivate() )\n",
    "\n",
    "# Can't Access Private Functions or Attributes - Will give an AttributeError\n",
    "# print( myFirstBook.__myPrivateMethod() )\n",
    "# print( Book.__totalEarnings )\n",
    "# print( myFirstBook.__earnings )\n",
    "\n",
    "# You can add, remove, or modify attributes of classes and objects at any time \n",
    "myFirstBook.price = 100   # add an 'price' attribute.\n",
    "myFirstBook.price = 200   # modify 'age' attribute.\n",
    "del myFirstBook.price     # delete 'age' attribute.\n",
    "\n",
    "# Built-in Classes\n",
    "print( \"Book.__doc__:\", Book.__doc__ )\n",
    "print( \"Book.__name__:\", Book.__name__ )\n",
    "print( \"Book.__module__:\", Book.__module__ )\n",
    "print( \"Book.__bases__:\", Book.__bases__ )\n",
    "print( \"Book.__dict__:\", Book.__dict__ )"
   ]
  },
  {
   "cell_type": "markdown",
   "metadata": {},
   "source": [
    "### Inheritance\n",
    "\n",
    "Inheritance is a way to form new classes using classes that have already been defined. The newly formed classes are called derived classes, the classes that we derive from are called base classes. Important benefits of inheritance are code reuse and reduction of complexity of a program. The derived classes (descendants) override or extend the functionality of base classes (ancestors)."
   ]
  },
  {
   "cell_type": "code",
   "execution_count": null,
   "metadata": {},
   "outputs": [],
   "source": [
    "class Animal:\n",
    "    def __init__(self):\n",
    "        print(\"Animal created\")\n",
    "\n",
    "    def whoAmI(self):\n",
    "        print(\"Animal\")\n",
    "\n",
    "    def eat(self):\n",
    "        print(\"Eating\")\n",
    "\n",
    "# Derived Dog class will have all functions of (ansestor) Animal available as if its own. \n",
    "class Dog(Animal):             \n",
    "    def __init__(self):\n",
    "        Animal.__init__(self)  # \n",
    "        print(\"Dog created\")\n",
    "\n",
    "    def whoAmI(self):          # Can override functions if needed\n",
    "        print(\"Dog\")\n",
    "\n",
    "    def bark(self):            # Can also add new functions as needed\n",
    "        print(\"Woof!\")\n"
   ]
  },
  {
   "cell_type": "markdown",
   "metadata": {},
   "source": [
    "# <u>Python Decorators</u>\n",
    "\n",
    "Decorators let you 'decorate' a function. It can be thought of as functions which modify the functionality of another function. They help to make your code shorter and more \"Pythonic\"."
   ]
  },
  {
   "cell_type": "code",
   "execution_count": null,
   "metadata": {},
   "outputs": [],
   "source": [
    "def hello(name='Alex'):\n",
    "    print('Hello!')\n",
    "    \n",
    "    def welcome():\n",
    "        return \"\\t Welcome!\"\n",
    "    \n",
    "    def greet():\n",
    "        return \"\\t Greetings!\"\n",
    "\n",
    "    print(greet())\n",
    "    print(welcome())\n",
    "    print(\"Bye!\")\n",
    "\n",
    "hello()"
   ]
  },
  {
   "cell_type": "code",
   "execution_count": null,
   "metadata": {},
   "outputs": [],
   "source": [
    "def hello(name='Welcome'):\n",
    "    \n",
    "    def welcome():\n",
    "        return \"Welcome!\"\n",
    "    \n",
    "    def greet():\n",
    "        return \"Greetings!\"\n",
    "\n",
    "    if name == 'Welcome':\n",
    "        return welcome\n",
    "    else:\n",
    "        return greet\n",
    "\n",
    "my_decorator = hello('Welcome')\n",
    "my_decorator()"
   ]
  },
  {
   "cell_type": "code",
   "execution_count": null,
   "metadata": {},
   "outputs": [],
   "source": [
    "def func1():\n",
    "    return 'First Function'\n",
    "\n",
    "def func2(func):\n",
    "    print('Second Function')\n",
    "    print(func())\n",
    "\n",
    "func2(func1)"
   ]
  },
  {
   "cell_type": "code",
   "execution_count": null,
   "metadata": {},
   "outputs": [],
   "source": [
    "def decorator(original):\n",
    "\n",
    "    def decorate():\n",
    "        print(\"decoration before\")\n",
    "\n",
    "        original()\n",
    "\n",
    "        print(\"decoration after\\n\")\n",
    "\n",
    "    return decorate\n",
    "\n",
    "def original():\n",
    "    print(\"original function\")\n",
    "    \n",
    "# decorate original function old fashion\n",
    "original = decorator(original)\n",
    "original()\n",
    "\n",
    "# decorate original function new way\n",
    "@decorator\n",
    "def orig():\n",
    "    print(\"origin function\")\n",
    "orig()"
   ]
  },
  {
   "cell_type": "markdown",
   "metadata": {},
   "source": [
    "# <u>Generators</u>\n",
    "\n",
    "Generator functions allow us to write a function that can send back a value and then later resume to pick up where it left off. Generators can be paused and resumed on the fly, returning an object that can be iterated over. Unlike lists, they produce items one at a time and only when asked. \n",
    "\n",
    "To create a generator, you define a function as you normally would but use the <b>yield</b> statement instead of return, indicating to the interpreter that this function should be treated as an iterator. The yield statement pauses the function and saves the local state so that it can be resumed right where it left off.\n",
    "\n",
    "The main advantage here is that instead of having to compute an entire series of values up front, the generator computes one value and then suspends its activity awaiting the next instruction. This feature is known as state suspension. \n",
    "\n",
    "Generators are perfect for reading a large number of large files since they yield out data a single chunk at a time irrespective of the size of the input stream. They can also result in cleaner code by decoupling the iteration process into smaller components. This is good for saving space. Instead of creating a very big list with tons of memory space, we can have the function that computes and returns the value as it goes.\n"
   ]
  },
  {
   "cell_type": "code",
   "execution_count": null,
   "metadata": {},
   "outputs": [],
   "source": [
    "def count(n):\n",
    "    print('Starting Generator')\n",
    "    while n > 0:\n",
    "        ret = n\n",
    "        n -= 1\n",
    "        yield ret\n",
    "\n",
    "gen = count(3)     # Does nothing, only declares an instance of the function generator\n",
    "print( next(gen) ) # prints both 'Starting Iterator' and 3.\n",
    "print( next(gen) ) # prints 2. Does not print 'Starting Generator' since it continues where it left off!!!\n",
    "print( next(gen) ) # prints 1\n",
    "print( next(gen) ) # gives StopIteration error !!!"
   ]
  },
  {
   "cell_type": "markdown",
   "metadata": {},
   "source": [
    "### Generator Comprehensions\n",
    "\n",
    "Just like list comprehensions, generators can also be written in the same manner except they return a generator object rather than a list. Be careful not to mix up the syntax of a list comprehension with a generator expression - [ ] vs () - since generator expressions can run slower than list comprehensions (unless you run out of memory, of course):"
   ]
  },
  {
   "cell_type": "code",
   "execution_count": null,
   "metadata": {},
   "outputs": [],
   "source": [
    "my_list = [1, 2, 3]\n",
    "gen = (x for x in my_list)\n",
    "print( next(gen) ) # prints 1\n",
    "print( next(gen) ) # prints 2\n",
    "print( next(gen) ) # prints 3\n",
    "print( next(gen) ) # gives StopIteration error !!!"
   ]
  },
  {
   "cell_type": "markdown",
   "metadata": {},
   "source": [
    "### Generator as Wicks\n",
    "\n",
    "Generators can be seen as a traceble wicks that are left to indicate what needs to be fired. And it actually is hit until the last call, and then it is executed all the way from the start, firing all the points along the path as necessary."
   ]
  },
  {
   "cell_type": "code",
   "execution_count": null,
   "metadata": {},
   "outputs": [],
   "source": [
    "def generate_filenames():\n",
    "    \"\"\"\n",
    "    generates a sequence of opened files\n",
    "    matching a specific extension\n",
    "    \"\"\"\n",
    "    for dir_path, dir_names, file_names in os.walk('test/'):\n",
    "        for file_name in file_names:\n",
    "            if file_name.endswith('.py'):\n",
    "                yield open(os.path.join(dir_path, file_name))\n",
    "\n",
    "def cat_files(files):\n",
    "    \"\"\"\n",
    "    takes in an iterable of filenames\n",
    "    \"\"\"\n",
    "    for fname in files:\n",
    "        for line in fname:\n",
    "            yield line\n",
    "\n",
    "def grep_files(lines, pattern=None):\n",
    "    \"\"\"\n",
    "    takes in an iterable of lines\n",
    "    \"\"\"\n",
    "    for line in lines:\n",
    "        if pattern in line:\n",
    "            yield line\n",
    "\n",
    "\n",
    "py_files = generate_filenames()\n",
    "py_file = cat_files(py_files)\n",
    "lines = grep_files(py_file, 'python')\n",
    "for line in lines:\n",
    "    print (line)"
   ]
  },
  {
   "cell_type": "markdown",
   "metadata": {},
   "source": [
    "# <u> Arguments</u>"
   ]
  },
  {
   "cell_type": "markdown",
   "metadata": {},
   "source": [
    "### `*args` and `**kwargs`"
   ]
  },
  {
   "cell_type": "code",
   "execution_count": null,
   "metadata": {},
   "outputs": [],
   "source": [
    "def myfunc(*args, **kwargs):\n",
    "    if 'fruit' and 'juice' in kwargs:\n",
    "        print(\"I like {} and my favorite fruit is {}\".format(' and '.join(args),kwargs['fruit']))\n",
    "        print(\"may I have some {} juice?\".format(kwargs['juice']))\n",
    "    else:\n",
    "        pass\n",
    "\n",
    "myfunc('eggs','bacon',fruit='cherries',juice='orange')"
   ]
  },
  {
   "cell_type": "markdown",
   "metadata": {},
   "source": [
    "### By Reference\n",
    "All parameters (arguments) in the Python language are passed by reference. It means if you change what a parameter refers to within a function, the change also reflects back in the calling function"
   ]
  },
  {
   "cell_type": "code",
   "execution_count": null,
   "metadata": {},
   "outputs": [],
   "source": [
    "def changeme( mylist ):\n",
    "    # This changes a passed list into this function\"\n",
    "    mylist.append([1,2,3,4]);\n",
    "    print( \"Values inside the function: {}\".format(mylist) )\n",
    "    return\n",
    "\n",
    "\n",
    "mylist = [10,20,30];\n",
    "changeme( mylist );\n",
    "print( \"Values outside the function: {}\".format(mylist) )"
   ]
  },
  {
   "cell_type": "code",
   "execution_count": null,
   "metadata": {},
   "outputs": [],
   "source": [
    "def changeme( mylist ):\n",
    "    #This changes a passed list into this function\n",
    "    mylist = [1,2,3,4]; # This would assig new reference in mylist.\n",
    "    # Mylist is assigned to a different memory location holding [1,2,3,4]\n",
    "    print( \"Values inside the function: {}\".format(mylist) )\n",
    "    return\n",
    "\n",
    "mylist = [10,20,30];\n",
    "changeme( mylist );\n",
    "print( \"Values outside the function: {}\".format(mylist) )"
   ]
  },
  {
   "cell_type": "markdown",
   "metadata": {},
   "source": [
    "### Assignments\n",
    "\n",
    "<P> \n",
    "    Python allows you to assign a single value to several variables simultaneously. For example, a = b = c = 1. Here, an integer object is created with the value 1, and all three variables are assigned to the same memory location. You can also assign multiple objects to multiple variables. For example, a,b,c = 1,2,\"john\". Here, two integer objects with values 1 and 2 are assigned to variables a and b respectively, and one string object with the value \"john\" is assigned to the variable c.\n",
    "</P>"
   ]
  },
  {
   "cell_type": "code",
   "execution_count": null,
   "metadata": {},
   "outputs": [],
   "source": [
    "# Here, a list object is created with the values [1,2,3], \n",
    "# and all three variables are assigned to the same memory location.\n",
    "# So changing one will affect the others since all point to the\n",
    "# same location\n",
    "\n",
    "a = b = c = [1,2,3]\n",
    "print('{}{}{}{}{}{}'.format(a,'\\n',b,'\\n',c,'\\n'))\n",
    "\n",
    "a.append(4)\n",
    "print('{}{}{}{}{}{}'.format(a,'\\n',b,'\\n',c,'\\n'))"
   ]
  },
  {
   "cell_type": "code",
   "execution_count": null,
   "metadata": {},
   "outputs": [],
   "source": [
    "# Here, three list objects are created with the value [1,2,3], \n",
    "# but all three variables are assigned to the different memory locations.\n",
    "# So changing one will not affect the others one since all point\n",
    "# to different locations\n",
    "\n",
    "a,b,c = [1,2,3],[1,2,3],[1,2,3]\n",
    "print('{}{}{}{}{}{}'.format(a,'\\n',b,'\\n',c,'\\n'))\n",
    "\n",
    "a.append(4)\n",
    "print('{}{}{}{}{}{}'.format(a,'\\n',b,'\\n',c,'\\n'))"
   ]
  },
  {
   "cell_type": "code",
   "execution_count": null,
   "metadata": {},
   "outputs": [],
   "source": [
    "# This rule does not hold in For loops, these handle assignment to the counter differently.\n",
    "# These is due to the properties of generators. You can change the value of i insede the\n",
    "# For loop at any instance, however, once this continues to next iteration, the valu of 'i'\n",
    "# is reseted by the value returned by the generator.\n",
    "\n",
    "for i in range(2):\n",
    "    cur = i\n",
    "    print ('{} {}'.format(cur,i))\n",
    "    cur += 1\n",
    "    print ('{} {}'.format(cur,i))\n",
    "    cur += 1\n",
    "    print ('{} {}'.format(cur,i))\n"
   ]
  },
  {
   "cell_type": "code",
   "execution_count": null,
   "metadata": {},
   "outputs": [],
   "source": [
    "# You can observe more here\n",
    "\n",
    "for i in range(3):\n",
    "    print(i)\n",
    "    i += 20\n",
    "    print(i)\n",
    "    i = 50\n",
    "    print(i)\n"
   ]
  },
  {
   "cell_type": "code",
   "execution_count": null,
   "metadata": {},
   "outputs": [],
   "source": [
    "# Repetition - can be tricky in 2D\n",
    "my_list = ['A string',23,100.232]\n",
    "repeated = my_list * 3\n",
    "\n",
    "one_d_repeated = [None]*5\n",
    "one_d_repeated_change = [None]*5\n",
    "one_d_repeated_change[3] = 1\n",
    "\n",
    "two_d_repeated = [[None]*5]*5\n",
    "two_d_repeated_change = [[None]*5]*5\n",
    "two_d_repeated_change[3][3] = 1\n",
    "two_d_comprehension = [[None for i in range(5)] for j in range(5)]\n",
    "two_d_comprehension_change = [[None for i in range(5)] for j in range(5)]\n",
    "two_d_comprehension_change[3][3] = 1\n",
    "\n",
    "import pprint\n",
    "pp = pprint.PrettyPrinter(indent=2)\n",
    "print(my_list)\n",
    "print()\n",
    "print(repeated)\n",
    "print()\n",
    "print(one_d_repeated)\n",
    "print()\n",
    "print(one_d_repeated_change)\n",
    "print()\n",
    "pp.pprint(two_d_repeated)\n",
    "print()\n",
    "pp.pprint(two_d_repeated_change)\n",
    "print()\n",
    "pp.pprint(two_d_comprehension)\n",
    "print()\n",
    "pp.pprint(two_d_comprehension_change)"
   ]
  },
  {
   "cell_type": "code",
   "execution_count": null,
   "metadata": {},
   "outputs": [],
   "source": []
  }
 ],
 "metadata": {
  "kernelspec": {
   "display_name": "Python 3",
   "language": "python",
   "name": "python3"
  },
  "language_info": {
   "codemirror_mode": {
    "name": "ipython",
    "version": 3
   },
   "file_extension": ".py",
   "mimetype": "text/x-python",
   "name": "python",
   "nbconvert_exporter": "python",
   "pygments_lexer": "ipython3",
   "version": "3.7.1"
  }
 },
 "nbformat": 4,
 "nbformat_minor": 2
}
