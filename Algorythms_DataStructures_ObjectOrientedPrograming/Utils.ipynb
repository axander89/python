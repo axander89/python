{
 "cells": [
  {
   "cell_type": "code",
   "execution_count": 17,
   "metadata": {},
   "outputs": [
    {
     "name": "stdout",
     "output_type": "stream",
     "text": [
      "marvin21_a21lexan65der_h_m\n"
     ]
    }
   ],
   "source": [
    "# Camel case to snake case\n",
    "import re\n",
    "\n",
    "def camel_to_snake(camel):\n",
    "    phrase = \"[A-Z][a-z0-9]*\" # one upper case followed by sequences of lower case or numbers\n",
    "    snake = re.findall(phrase,camel)\n",
    "    snake = \"_\".join(snake)\n",
    "    snake =snake.lower()\n",
    "    return snake\n",
    "\n",
    "camel = \"Marvin21A21lexan65derHM\"\n",
    "snake = camel_to_snake(camel)\n",
    "print(snake)"
   ]
  },
  {
   "cell_type": "code",
   "execution_count": null,
   "metadata": {},
   "outputs": [],
   "source": []
  }
 ],
 "metadata": {
  "kernelspec": {
   "display_name": "Python 3",
   "language": "python",
   "name": "python3"
  },
  "language_info": {
   "codemirror_mode": {
    "name": "ipython",
    "version": 3
   },
   "file_extension": ".py",
   "mimetype": "text/x-python",
   "name": "python",
   "nbconvert_exporter": "python",
   "pygments_lexer": "ipython3",
   "version": "3.7.1"
  }
 },
 "nbformat": 4,
 "nbformat_minor": 2
}
