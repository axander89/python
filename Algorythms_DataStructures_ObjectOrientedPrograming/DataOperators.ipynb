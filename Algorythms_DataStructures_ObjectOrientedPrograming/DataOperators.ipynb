{
 "cells": [
  {
   "cell_type": "markdown",
   "metadata": {},
   "source": [
    "# Advanced Operators"
   ]
  },
  {
   "cell_type": "markdown",
   "metadata": {},
   "source": [
    "### lanbda expressions"
   ]
  },
  {
   "cell_type": "code",
   "execution_count": null,
   "metadata": {},
   "outputs": [],
   "source": [
    "# one line functions\n",
    "# lamnda input: return \n",
    "# lamnda input_argument_s: action_to_be_performed_on_input_argument_s\n",
    "\n",
    "my_sum = lambda val1, val2: val1 + val2;\n",
    "square = lambda num: num ** 2\n",
    "\n",
    "print(square(2))\n",
    "print(my_sum(3,5))"
   ]
  },
  {
   "cell_type": "markdown",
   "metadata": {},
   "source": [
    "### filter()\n",
    "\n",
    "<b> filter( action_to_be_performed , data_for_operation ) </b> filters the values from <b>data_for_opperation</b> which result in True or 1, when <b>action_to_be_performed</b> is performed on idividual elements."
   ]
  },
  {
   "cell_type": "code",
   "execution_count": null,
   "metadata": {},
   "outputs": [],
   "source": [
    "# Filters even numbers\n",
    "\n",
    "lst = [1,2,3,4,5,6,7,8,9,10]\n",
    "def even_check(num):\n",
    "    if num%2 ==0:\n",
    "        return True\n",
    "\n",
    "list(filter(even_check,lst))"
   ]
  },
  {
   "cell_type": "code",
   "execution_count": null,
   "metadata": {},
   "outputs": [],
   "source": [
    "# Filter even numbers using lambda expressions\n",
    "\n",
    "lst = [1,2,3,4,5,6,7,8,9,10]\n",
    "\n",
    "list(filter(lambda x: x%2==0,lst))"
   ]
  },
  {
   "cell_type": "markdown",
   "metadata": {},
   "source": [
    "### map()\n",
    "\n",
    "<b> map( action_to_be_performed , data_for_operation ) </b> performs <b>action_to_be_performed</b> on every single element from <b>data_for_opperation</b>."
   ]
  },
  {
   "cell_type": "code",
   "execution_count": null,
   "metadata": {},
   "outputs": [],
   "source": [
    "# Check if elements are even\n",
    "\n",
    "lst = [1,2,3,4,5,6,7,8,9,10]\n",
    "def even_check(num):\n",
    "    if num%2 ==0:\n",
    "        return True\n",
    "\n",
    "list(map(even_check,lst))"
   ]
  },
  {
   "cell_type": "code",
   "execution_count": null,
   "metadata": {},
   "outputs": [],
   "source": [
    "# Check if elements are even using lambda expresions\n",
    "\n",
    "lst = [1,2,3,4,5,6,7,8,9,10]\n",
    "\n",
    "list(map(lambda lst_i: lst_i%2==0,lst))"
   ]
  },
  {
   "cell_type": "code",
   "execution_count": null,
   "metadata": {},
   "outputs": [],
   "source": [
    "a = [1,2,3,4]\n",
    "b = [5,6,7,8]\n",
    "\n",
    "list(map(lambda a_i,b_i:a_i+b_i, a,b))"
   ]
  },
  {
   "cell_type": "markdown",
   "metadata": {},
   "source": [
    "### enumarate()\n",
    "\n",
    "<b>enumarate(items)</b> returns a list of tupples where each tupple contains an <b>index</b> to each corresponding item in <b>items</b>, and the corresponding <b>item</b>.\n",
    "</p>\n",
    "\n",
    "<p>\n",
    "    <b>[ (ith_item_idx,ith_item), .....] </b>\n",
    "</p>"
   ]
  },
  {
   "cell_type": "code",
   "execution_count": null,
   "metadata": {},
   "outputs": [],
   "source": [
    "months = ['March','April','May','June']\n",
    "\n",
    "print( list(enumerate(months)) )\n",
    "print( list(enumerate(months,start=3)) )"
   ]
  },
  {
   "cell_type": "code",
   "execution_count": null,
   "metadata": {},
   "outputs": [],
   "source": [
    "for i,letter in enumerate('abcde'):\n",
    "    print(\"At index {} the letter is {}\".format(i,letter))"
   ]
  },
  {
   "cell_type": "markdown",
   "metadata": {},
   "source": [
    "### zip()\n",
    "\n",
    "<b>zip(elements1,elements2)</b> returns a list of tupples where each tupple contains <b>elemt1_idx_ith</b> and <b>elemt2_idx_ith</b>.\n",
    "</p>\n",
    "\n",
    "<p>\n",
    "    <b>[ (elemt1_idx_ith,elemt2_idx_ith), .....] </b>\n",
    "</p>"
   ]
  },
  {
   "cell_type": "code",
   "execution_count": null,
   "metadata": {},
   "outputs": [],
   "source": [
    "mylist1 = [1,2,3,4,5,6,7,8,9]\n",
    "mylist2 = ['one','two','three','four','five']\n",
    "list(zip(mylist1,mylist2))"
   ]
  },
  {
   "cell_type": "code",
   "execution_count": null,
   "metadata": {},
   "outputs": [],
   "source": [
    "for item1, item2 in zip(mylist1,mylist2):\n",
    "    print('For this tuple, first item was {} and second item was {}'.format(item1,item2))"
   ]
  },
  {
   "cell_type": "markdown",
   "metadata": {},
   "source": [
    "### sorted()"
   ]
  },
  {
   "cell_type": "code",
   "execution_count": null,
   "metadata": {},
   "outputs": [],
   "source": [
    "pyList = ['e', 'a', 'u', 'o', 'i']\n",
    "print(sorted(pyList))"
   ]
  },
  {
   "cell_type": "code",
   "execution_count": null,
   "metadata": {},
   "outputs": [],
   "source": [
    "student_tuples = [ ('walter', 'b', 5), ('jane', 'a', 15), ('alex', 'c', 10) ]\n",
    "\n",
    "sorted_list = sorted(student_tuples, key=lambda s: s[2])   # sort by name [0], section [1], age [2]\n",
    "print(sorted_list)\n",
    "print(student_tuples)"
   ]
  },
  {
   "cell_type": "code",
   "execution_count": null,
   "metadata": {},
   "outputs": [],
   "source": [
    "student_tuples = [ ['walter', 'b', 5], ['jane', 'a', 15], ['alex', 'c', 10] ]\n",
    "\n",
    "sorted(student_tuples, key=lambda s: s[0])   # sort by name [0], section [1], age [2]"
   ]
  },
  {
   "cell_type": "code",
   "execution_count": null,
   "metadata": {},
   "outputs": [],
   "source": [
    "class Student:\n",
    "        def __init__(self, name, grade, age):\n",
    "                self.name = name\n",
    "                self.id = grade\n",
    "                self.age = age\n",
    "        def __repr__(self):\n",
    "                return repr((self.name, self.grade, self.age))\n",
    "        def weighted_grade(self):\n",
    "                return 'CBA'.index(self.grade) / float(self.age)\n",
    "\n",
    "student_tuples = [ Student('walter', 'b', 5), Student('jane', 'a', 15), Student('alex', 'c', 10) ]\n",
    "\n",
    "sorted(student_tuples, key=lambda student: student.age)   # sort by .name, .id, .age"
   ]
  },
  {
   "cell_type": "markdown",
   "metadata": {},
   "source": [
    "### Counter() "
   ]
  },
  {
   "cell_type": "code",
   "execution_count": null,
   "metadata": {},
   "outputs": [],
   "source": [
    "from collections import Counter\n",
    "\n",
    "lst = [1,2,2,2,2,3,3,3,1,2,1,12,3,2,32,1,21,1]\n",
    "Counter(lst)"
   ]
  },
  {
   "cell_type": "code",
   "execution_count": null,
   "metadata": {},
   "outputs": [],
   "source": [
    "s = 'How many many times does each each word show up up'\n",
    "words = s.split()\n",
    "Counter(words)"
   ]
  },
  {
   "cell_type": "code",
   "execution_count": null,
   "metadata": {},
   "outputs": [],
   "source": [
    "# Methods with Counter()\n",
    "c = Counter(words)\n",
    "c.most_common(2)"
   ]
  },
  {
   "cell_type": "code",
   "execution_count": null,
   "metadata": {},
   "outputs": [],
   "source": [
    "# convert to a list of (elem, cnt) pairs\n",
    "c.items()"
   ]
  },
  {
   "cell_type": "code",
   "execution_count": null,
   "metadata": {},
   "outputs": [],
   "source": [
    "# total of all counts\n",
    "sum(c.values()) "
   ]
  },
  {
   "cell_type": "code",
   "execution_count": null,
   "metadata": {},
   "outputs": [],
   "source": [
    "# list unique elements\n",
    "list(c)"
   ]
  },
  {
   "cell_type": "code",
   "execution_count": null,
   "metadata": {},
   "outputs": [],
   "source": [
    "# convert to a regular dictionary\n",
    "dict(c)"
   ]
  },
  {
   "cell_type": "code",
   "execution_count": null,
   "metadata": {},
   "outputs": [],
   "source": [
    "# reset all counts\n",
    "c.clear()"
   ]
  },
  {
   "cell_type": "markdown",
   "metadata": {},
   "source": [
    "### Regular Expressions - re\n",
    "\n",
    "<p>\n",
    "    Powerful module for working with strings</b>\n",
    "</p>\n",
    "\n",
    "<p>\n",
    "    <ul>\n",
    "        <li><b>search()</b>\n",
    "              <ul>\n",
    "                <li><b>if</b>\n",
    "                <li><b>start()</b>\n",
    "                <li><b>end()</b>\n",
    "            </ul>\n",
    "        </li>\n",
    "        <li><b>split()</b></li>\n",
    "        <li><b>findall()</b></li>\n",
    "    </ul>\n",
    "</p>"
   ]
  },
  {
   "cell_type": "code",
   "execution_count": null,
   "metadata": {},
   "outputs": [],
   "source": [
    "import re\n",
    "\n",
    "# search object contains methods such as start(), end(), etc\n",
    "term = 'term'\n",
    "expression = 'This is a string with term1, but it does not have the other term.'\n",
    "match = re.search(term,expression)\n",
    "\n",
    "# Search Properties\n",
    "if match:\n",
    "    m = True\n",
    "print(\"Is 'term' in string?: {}\\n\".format(m))\n",
    "# Show start and end of match\n",
    "print('match starts at index {} and ends at index {}'.format(match.start(),match.end()))\n",
    "print()\n",
    "\n",
    "# Split\n",
    "print( re.split('@','johndoe@gmail.com') )\n",
    "print()\n",
    "print('johndoe@gmail.com'.split('@'))\n",
    "print()\n",
    "\n",
    "# Returns a list of all matches\n",
    "print(re.findall('match','test phrase match is in middle and match after'))"
   ]
  },
  {
   "cell_type": "code",
   "execution_count": null,
   "metadata": {},
   "outputs": [],
   "source": [
    "# exclude and isolate\n",
    "\n",
    "import re\n",
    "\n",
    "print(\"'[]': the special character you want to work with.\")\n",
    "print(\"'^': indicates to exclude\")\n",
    "print(\"'+': indicates to concatanate partitions\\n\\n\")\n",
    "\n",
    "\n",
    "def multi_re_find(patterns,phrase):\n",
    "    '''\n",
    "    Takes in a list of regex patterns\n",
    "    Prints a list of all matches\n",
    "    '''\n",
    "    for pattern in patterns:\n",
    "        print('Searching the phrase using the re check: %r' %(pattern))\n",
    "        print(re.findall(pattern,phrase))\n",
    "        print('\\n')\n",
    "\n",
    "test_phrase1 = 'This is a string! But it has punctuation. How can we remove it?'\n",
    "test_phrase2 = 'sdsd..sssddd...sdddsddd...dsds...dsssss...sdddd'\n",
    "test_phrase3 = 'sdsd..sssddd...sdddsddd...dsds...dsssss...sdddd'\n",
    "test_phrase4 = 'This is an example sentence. Lets see if we can find some letters.'\n",
    "test_phrase5 = 'This is a string with some numbers 1233 and a symbol #hashtag'\n",
    "\n",
    "# Include or Exclude\n",
    "tst_patterns1=['[^!?., ]',      # sequence exluding '!', '?', ',', '.', and ' '. Do not split substrings\n",
    "               '[^!?., ]+',     # sequence exluding '!', '?', ',', '.', and ' '. Split substrings\n",
    "               '[!?., ]',       # sequence containing '!', '?', ',', '.', and ' '. Split substrings\n",
    "               '[!?., ]+']      # sequence containing '!', '?', ',', '.', and ' '. Do not split substrings\n",
    "## Repetition Syntax\n",
    "tst_patterns2=['sd*',           # s followed by zero or more d's\n",
    "               'sd+',           # s followed by one or more d's\n",
    "               'sd?',           # s followed by zero or one d's\n",
    "               'sd{3}',         # s followed by three d's\n",
    "               'sd{2,3}']       # s followed by two to three d's\n",
    "## Character sets\n",
    "tst_patterns3=['[sd]',          # either s or d\n",
    "               's[sd]+']        # s followed by one or more s or d\n",
    "## Character Ranges\n",
    "tst_patterns4=['[a-z]+',        # sequences of lower case letters\n",
    "               '[A-Z]+',        # sequences of upper case letters\n",
    "               '[a-zA-Z]+',     # sequences of lower or upper case letters\n",
    "               '[A-Z][a-z]+']   # one upper case letter followed by lower case letters\n",
    "## Escape Codes\n",
    "tst_patterns5=[r'\\d+',          # sequence of digits\n",
    "               r'\\D+',          # sequence of non-digits\n",
    "               r'\\s+',          # sequence of whitespace\n",
    "               r'\\S+',          # sequence of non-whitespace\n",
    "               r'\\w+',          # alphanumeric characters\n",
    "               r'\\W+']          # non-alphanumeric\n",
    "\n",
    "print('=====================\\n# Include or Exclude\\n=====================\\nPhrase: {}\\n'.format(test_phrase1))\n",
    "multi_re_find(tst_patterns1,test_phrase1)\n",
    "print('=====================\\n# Repetition Syntax\\n=====================\\nPhrase: {}\\n'.format(test_phrase2))\n",
    "multi_re_find(tst_patterns2,test_phrase2)\n",
    "print('=====================\\n# Character sets\\n=====================\\nPhrase: {}\\n'.format(test_phrase3))\n",
    "multi_re_find(tst_patterns3,test_phrase3)\n",
    "print('=====================\\n# Character Ranges\\n=====================\\nPhrase: {}\\n'.format(test_phrase4))\n",
    "multi_re_find(tst_patterns4,test_phrase4)\n",
    "print('=====================\\n# Escape Codes\\n=====================\\nPhrase: {}\\n'.format(test_phrase5))\n",
    "multi_re_find(tst_patterns5,test_phrase5)"
   ]
  },
  {
   "cell_type": "markdown",
   "metadata": {},
   "source": [
    "### all() - any()"
   ]
  },
  {
   "cell_type": "code",
   "execution_count": null,
   "metadata": {},
   "outputs": [],
   "source": [
    "lst = [True,True,False,True]"
   ]
  },
  {
   "cell_type": "code",
   "execution_count": null,
   "metadata": {},
   "outputs": [],
   "source": [
    "all(lst)"
   ]
  },
  {
   "cell_type": "code",
   "execution_count": null,
   "metadata": {},
   "outputs": [],
   "source": [
    "any(lst)"
   ]
  },
  {
   "cell_type": "markdown",
   "metadata": {},
   "source": [
    "### in\n",
    "\n",
    "<p>\n",
    "    <b>in</b> is a membership property that returns True if an element exist in another element, and false otherwise.\n",
    "</p>"
   ]
  },
  {
   "cell_type": "code",
   "execution_count": null,
   "metadata": {},
   "outputs": [],
   "source": [
    "print('x' in ['x','y','z'])\n",
    "print('x' in [1,2,3])"
   ]
  },
  {
   "cell_type": "markdown",
   "metadata": {},
   "source": [
    "### min() - max()"
   ]
  },
  {
   "cell_type": "code",
   "execution_count": null,
   "metadata": {},
   "outputs": [],
   "source": [
    "mylist = [10,20,30,40,100]\n",
    "\n",
    "print(min(mylist))\n",
    "print(max(mylist))"
   ]
  },
  {
   "cell_type": "markdown",
   "metadata": {},
   "source": [
    "### input()"
   ]
  },
  {
   "cell_type": "code",
   "execution_count": null,
   "metadata": {},
   "outputs": [],
   "source": [
    "input('Enter Something into this box: ')"
   ]
  },
  {
   "cell_type": "markdown",
   "metadata": {},
   "source": [
    "### random"
   ]
  },
  {
   "cell_type": "code",
   "execution_count": null,
   "metadata": {},
   "outputs": [],
   "source": [
    "from random import randint, shuffle\n",
    "\n",
    "mylist = [10,20,30,40,50]"
   ]
  },
  {
   "cell_type": "code",
   "execution_count": null,
   "metadata": {},
   "outputs": [],
   "source": [
    "# Return random integer in range [a, b], including both end points.\n",
    "randint(0,100)"
   ]
  },
  {
   "cell_type": "code",
   "execution_count": null,
   "metadata": {},
   "outputs": [],
   "source": [
    "# This shuffles the list \"in-place\" meaning it won't return\n",
    "# anything, instead it will effect the list passed\n",
    "print( shuffle(mylist) )\n",
    "print( mylist )"
   ]
  },
  {
   "cell_type": "markdown",
   "metadata": {},
   "source": [
    "### Size of data - getsizeof()"
   ]
  },
  {
   "cell_type": "code",
   "execution_count": null,
   "metadata": {},
   "outputs": [],
   "source": [
    "import sys\n",
    "from array import *\n",
    "\n",
    "print( sys.getsizeof(0.0) )\n",
    "\n",
    "INT_MAX = sys.maxsize\n",
    "INT_MIN = -sys.maxsize-1\n",
    "\n",
    "print( sys.maxsize )\n",
    "print( -sys.maxsize-1 )\n",
    "print()\n",
    "\n",
    "int_min = -2**31\n",
    "int_max = (2**31)-1\n",
    "\n",
    "array1 = array('i', [10,20,30,40,50])\n",
    "\n",
    "for x in array1:\n",
    "    print('size of {} is {}'.format(x,sys.getsizeof(x)))"
   ]
  },
  {
   "cell_type": "markdown",
   "metadata": {},
   "source": [
    "### Length of data - len()"
   ]
  },
  {
   "cell_type": "code",
   "execution_count": null,
   "metadata": {},
   "outputs": [],
   "source": [
    "mystring = 'this is a string'\n",
    "myint = 250\n",
    "myfloat = 2.5\n",
    "myarray = [mystring,myint,myfloat]\n",
    "two_D = [[None]*5]*5\n",
    "\n",
    "print( 'the length of mystring is : {}'.format( len(mystring) ) )\n",
    "print( 'the length of myarray is : {}'.format( len(myarray) ) )\n",
    "print( 'the length of 2D myarray is : {}'.format( len(two_D) ) )\n",
    "print( 'the length of internal elements of my 2D myarray is : {}'.format( len(two_D[0]) ) )"
   ]
  },
  {
   "cell_type": "markdown",
   "metadata": {},
   "source": [
    "### What type? - type()"
   ]
  },
  {
   "cell_type": "code",
   "execution_count": null,
   "metadata": {},
   "outputs": [],
   "source": [
    "mystring = 'this is a string'\n",
    "print( 'Hey this is type: {}'.format( type(mystring) ) )\n",
    "\n",
    "if type('a') == type('b'):\n",
    "    print(\"That's true!\")\n",
    "\n",
    "if type('a') == type(2):\n",
    "    print('How come!?')"
   ]
  },
  {
   "cell_type": "markdown",
   "metadata": {},
   "source": [
    "### Change Data Types"
   ]
  },
  {
   "cell_type": "code",
   "execution_count": null,
   "metadata": {},
   "outputs": [],
   "source": [
    "# makes x an integer\n",
    "x = int(2.2)\n",
    "x\n",
    "\n",
    "# makes x a float\n",
    "x = float(2)\n",
    "x\n",
    "\n",
    "# makes x a string\n",
    "x = str(2)\n",
    "x\n",
    "\n",
    "# makes x a string\n",
    "x = chr(2)\n",
    "x\n",
    "\n",
    "# makes x an expression string.\n",
    "x = repr(2)\n",
    "x\n",
    "\n",
    "# makes x a tuple.\n",
    "x = tuple(['a','b'])\n",
    "x\n",
    "\n",
    "# makes x a hex\n",
    "x = hex(10)\n",
    "x"
   ]
  }
 ],
 "metadata": {
  "kernelspec": {
   "display_name": "Python 3",
   "language": "python",
   "name": "python3"
  },
  "language_info": {
   "codemirror_mode": {
    "name": "ipython",
    "version": 3
   },
   "file_extension": ".py",
   "mimetype": "text/x-python",
   "name": "python",
   "nbconvert_exporter": "python",
   "pygments_lexer": "ipython3",
   "version": "3.7.1"
  }
 },
 "nbformat": 4,
 "nbformat_minor": 2
}
